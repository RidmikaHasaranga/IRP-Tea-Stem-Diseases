{
 "cells": [
  {
   "cell_type": "code",
   "execution_count": 2,
   "metadata": {},
   "outputs": [],
   "source": [
    "import os\n",
    "import cv2\n",
    "import numpy as np\n",
    "import pandas as pd\n",
    "from skimage.feature import graycomatrix, graycoprops\n",
    "from tqdm import tqdm\n",
    "from sklearn.model_selection import train_test_split\n",
    "from sklearn.preprocessing import StandardScaler\n",
    "from sklearn.ensemble import RandomForestClassifier\n",
    "from sklearn.svm import SVC\n",
    "from sklearn.neighbors import KNeighborsClassifier\n",
    "from sklearn.metrics import classification_report, confusion_matrix, accuracy_score\n",
    "import joblib "
   ]
  },
  {
   "cell_type": "code",
   "execution_count": 3,
   "metadata": {},
   "outputs": [],
   "source": [
    "root_folder = \"D:\\IIT\\Subjects\\(4605)IRP\\Devlo\\Augmented_DataSet\"\n",
    "classes = ['Healthy', 'Pink_Wax', 'Live_Wood', 'Stem_Canker'] # [0, 1, 2, 3]"
   ]
  },
  {
   "cell_type": "code",
   "execution_count": 4,
   "metadata": {},
   "outputs": [],
   "source": [
    "IMG_SIZE = (224, 224)"
   ]
  },
  {
   "cell_type": "markdown",
   "metadata": {},
   "source": [
    "# Extract the Texture features and sav"
   ]
  },
  {
   "cell_type": "code",
   "execution_count": 5,
   "metadata": {},
   "outputs": [
    {
     "name": "stderr",
     "output_type": "stream",
     "text": [
      "Processing Healthy: 100%|██████████| 2500/2500 [00:41<00:00, 60.20it/s]\n",
      "Processing Pink_Wax: 100%|██████████| 2355/2355 [00:42<00:00, 56.03it/s]\n",
      "Processing Live_Wood: 100%|██████████| 2365/2365 [00:43<00:00, 54.21it/s]\n",
      "Processing Stem_Canker: 100%|██████████| 2350/2350 [00:48<00:00, 48.54it/s]\n"
     ]
    }
   ],
   "source": [
    "# Initialize feature storage\n",
    "features = []\n",
    "labels = []\n",
    "\n",
    "# Preprocessing and Feature Extraction\n",
    "for label, class_name in enumerate(classes):\n",
    "    class_path = os.path.join(root_folder, class_name)\n",
    "    for img_name in tqdm(os.listdir(class_path), desc=f\"Processing {class_name}\"):\n",
    "        img_path = os.path.join(class_path, img_name)\n",
    "        \n",
    "        # Load and preprocess image\n",
    "        img = cv2.imread(img_path)\n",
    "        if img is None:\n",
    "            continue  # Skip unreadable files\n",
    "        img_resized = cv2.resize(img, IMG_SIZE)  # Resize\n",
    "        img_gray = cv2.cvtColor(img_resized, cv2.COLOR_BGR2GRAY)  # Convert to grayscale\n",
    "\n",
    "        # Normalize the image\n",
    "        img_normalized = img_gray / 255.0\n",
    "\n",
    "        # Feature extraction: Texture features using GLCM\n",
    "        glcm = graycomatrix(img_gray, distances=[5], angles=[0], levels=256, symmetric=True, normed=True)\n",
    "        contrast = graycoprops(glcm, 'contrast')[0, 0]\n",
    "        homogeneity = graycoprops(glcm, 'homogeneity')[0, 0]\n",
    "        energy = graycoprops(glcm, 'energy')[0, 0]\n",
    "        correlation = graycoprops(glcm, 'correlation')[0, 0]\n",
    "\n",
    "        # Combine features\n",
    "        feature_vector = [contrast, homogeneity, energy, correlation]\n",
    "        features.append(feature_vector)\n",
    "        labels.append(label)"
   ]
  },
  {
   "cell_type": "code",
   "execution_count": 6,
   "metadata": {},
   "outputs": [],
   "source": [
    "feature_df = pd.DataFrame(features, columns=['Contrast', 'Homogeneity', 'Energy', 'Correlation'])\n",
    "feature_df['Label'] = labels"
   ]
  },
  {
   "cell_type": "code",
   "execution_count": 7,
   "metadata": {},
   "outputs": [
    {
     "name": "stdout",
     "output_type": "stream",
     "text": [
      "Feature extraction completed. Features saved to 'ml_features.csv'.\n"
     ]
    }
   ],
   "source": [
    "feature_df.to_csv(\"ml_features.csv\", index=False)\n",
    "\n",
    "print(\"Feature extraction completed. Features saved to 'ml_features.csv'.\")"
   ]
  },
  {
   "cell_type": "markdown",
   "metadata": {},
   "source": [
    "# Train only on Texture Features"
   ]
  },
  {
   "cell_type": "code",
   "execution_count": 8,
   "metadata": {},
   "outputs": [],
   "source": [
    "data = pd.read_csv(\"ml_features.csv\")"
   ]
  },
  {
   "cell_type": "code",
   "execution_count": 9,
   "metadata": {},
   "outputs": [],
   "source": [
    "X = data.drop(\"Label\", axis=1)  \n",
    "y = data[\"Label\"] "
   ]
  },
  {
   "cell_type": "code",
   "execution_count": 10,
   "metadata": {},
   "outputs": [],
   "source": [
    "X_train, X_test, y_train, y_test = train_test_split(X, y, test_size=0.2, random_state=42, stratify=y)"
   ]
  },
  {
   "cell_type": "code",
   "execution_count": 11,
   "metadata": {},
   "outputs": [],
   "source": [
    "scaler = StandardScaler()\n",
    "X_train_scaled = scaler.fit_transform(X_train)\n",
    "X_test_scaled = scaler.transform(X_test)"
   ]
  },
  {
   "cell_type": "code",
   "execution_count": 16,
   "metadata": {},
   "outputs": [
    {
     "data": {
      "text/plain": [
       "['D:\\\\IIT\\\\Subjects\\\\(4605)IRP\\\\Devlo\\\\models\\\\scaler.joblib']"
      ]
     },
     "execution_count": 16,
     "metadata": {},
     "output_type": "execute_result"
    }
   ],
   "source": [
    "joblib.dump(scaler, \"D:\\IIT\\Subjects\\(4605)IRP\\Devlo\\models\\scaler.joblib\")"
   ]
  },
  {
   "cell_type": "code",
   "execution_count": 17,
   "metadata": {},
   "outputs": [],
   "source": [
    "models = {\n",
    "    \"Random Forest\": RandomForestClassifier(random_state=42),\n",
    "    \"SVM\": SVC(random_state=42),\n",
    "    \"KNN\": KNeighborsClassifier()\n",
    "}"
   ]
  },
  {
   "cell_type": "code",
   "execution_count": 18,
   "metadata": {},
   "outputs": [
    {
     "name": "stdout",
     "output_type": "stream",
     "text": [
      "Training Random Forest...\n",
      "Results for Random Forest:\n",
      "Accuracy: 0.42\n",
      "Classification Report:\n",
      "              precision    recall  f1-score   support\n",
      "\n",
      "           0       0.43      0.50      0.46       500\n",
      "           1       0.43      0.45      0.44       471\n",
      "           2       0.41      0.38      0.39       473\n",
      "           3       0.40      0.33      0.36       470\n",
      "\n",
      "    accuracy                           0.42      1914\n",
      "   macro avg       0.42      0.42      0.41      1914\n",
      "weighted avg       0.42      0.42      0.42      1914\n",
      "\n",
      "Confusion Matrix:\n",
      "[[251  69  74 106]\n",
      " [ 78 210 118  65]\n",
      " [108 119 182  64]\n",
      " [145  93  75 157]]\n",
      "--------------------------------------------------\n",
      "Saved Random Forest model to D:\\IIT\\Subjects\\(4605)IRP\\Devlo\\models\\random_forest_model.joblib.\n",
      "Training SVM...\n",
      "Results for SVM:\n",
      "Accuracy: 0.42\n",
      "Classification Report:\n",
      "              precision    recall  f1-score   support\n",
      "\n",
      "           0       0.40      0.57      0.47       500\n",
      "           1       0.46      0.45      0.46       471\n",
      "           2       0.43      0.29      0.35       473\n",
      "           3       0.42      0.37      0.39       470\n",
      "\n",
      "    accuracy                           0.42      1914\n",
      "   macro avg       0.43      0.42      0.42      1914\n",
      "weighted avg       0.43      0.42      0.42      1914\n",
      "\n",
      "Confusion Matrix:\n",
      "[[286  69  46  99]\n",
      " [103 212  84  72]\n",
      " [154 109 139  71]\n",
      " [179  68  51 172]]\n",
      "--------------------------------------------------\n",
      "Saved SVM model to D:\\IIT\\Subjects\\(4605)IRP\\Devlo\\models\\svm_model.joblib.\n",
      "Training KNN...\n",
      "Results for KNN:\n",
      "Accuracy: 0.38\n",
      "Classification Report:\n",
      "              precision    recall  f1-score   support\n",
      "\n",
      "           0       0.37      0.50      0.43       500\n",
      "           1       0.37      0.39      0.38       471\n",
      "           2       0.40      0.33      0.36       473\n",
      "           3       0.39      0.29      0.34       470\n",
      "\n",
      "    accuracy                           0.38      1914\n",
      "   macro avg       0.38      0.38      0.38      1914\n",
      "weighted avg       0.38      0.38      0.38      1914\n",
      "\n",
      "Confusion Matrix:\n",
      "[[248 100  76  76]\n",
      " [107 186 101  77]\n",
      " [128 129 155  61]\n",
      " [180  94  58 138]]\n",
      "--------------------------------------------------\n",
      "Saved KNN model to D:\\IIT\\Subjects\\(4605)IRP\\Devlo\\models\\knn_model.joblib.\n"
     ]
    }
   ],
   "source": [
    "for model_name, model in models.items():\n",
    "    print(f\"Training {model_name}...\")\n",
    "    model.fit(X_train_scaled, y_train)  \n",
    "    y_pred = model.predict(X_test_scaled)  \n",
    "\n",
    "    # Evaluate the model\n",
    "    print(f\"Results for {model_name}:\")\n",
    "    print(f\"Accuracy: {accuracy_score(y_test, y_pred):.2f}\")\n",
    "    print(\"Classification Report:\")\n",
    "    print(classification_report(y_test, y_pred))\n",
    "    print(\"Confusion Matrix:\")\n",
    "    print(confusion_matrix(y_test, y_pred))\n",
    "    print(\"-\" * 50)\n",
    "\n",
    "    # Save the trained model\n",
    "    model_filename = f\"D:\\IIT\\Subjects\\(4605)IRP\\Devlo\\models\\{model_name.replace(' ', '_').lower()}_model.joblib\"\n",
    "    joblib.dump(model, model_filename)\n",
    "    print(f\"Saved {model_name} model to {model_filename}.\")"
   ]
  },
  {
   "cell_type": "code",
   "execution_count": null,
   "metadata": {},
   "outputs": [],
   "source": []
  }
 ],
 "metadata": {
  "kernelspec": {
   "display_name": "TenserFlow",
   "language": "python",
   "name": "python3"
  },
  "language_info": {
   "codemirror_mode": {
    "name": "ipython",
    "version": 3
   },
   "file_extension": ".py",
   "mimetype": "text/x-python",
   "name": "python",
   "nbconvert_exporter": "python",
   "pygments_lexer": "ipython3",
   "version": "3.10.13"
  }
 },
 "nbformat": 4,
 "nbformat_minor": 2
}
