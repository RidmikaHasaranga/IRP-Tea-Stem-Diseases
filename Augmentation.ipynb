{
 "cells": [
  {
   "cell_type": "code",
   "execution_count": 1,
   "metadata": {},
   "outputs": [],
   "source": [
    "import cv2\n",
    "import albumentations as A\n",
    "import os\n",
    "from glob import glob"
   ]
  },
  {
   "cell_type": "code",
   "execution_count": 2,
   "metadata": {},
   "outputs": [],
   "source": [
    "input_dir = 'D:\\IIT\\Subjects\\(4605)IRP\\Devlo\\DataSet' \n",
    "output_dir = 'D:\\IIT\\Subjects\\(4605)IRP\\Devlo\\Augmented_DataSet' "
   ]
  },
  {
   "cell_type": "code",
   "execution_count": 3,
   "metadata": {},
   "outputs": [],
   "source": [
    "augmentations = A.Compose([\n",
    "    A.HorizontalFlip(p=0.5),\n",
    "    A.VerticalFlip(p=0.5),\n",
    "    A.RandomRotate90(p=0.5),\n",
    "    A.RandomBrightnessContrast(p=0.5),\n",
    "    A.ElasticTransform(p=0.3, alpha=120, sigma=12),\n",
    "    A.ShiftScaleRotate(shift_limit=0.1, scale_limit=0.1, rotate_limit=20, p=0.5),\n",
    "    A.RandomSizedCrop(min_max_height=(100, 200), height=256, width=256, p=0.5),\n",
    "    A.GaussianBlur(p=0.3),\n",
    "    A.RandomGamma(p=0.3),\n",
    "    A.CLAHE(p=0.2),\n",
    "])\n"
   ]
  },
  {
   "cell_type": "code",
   "execution_count": 4,
   "metadata": {},
   "outputs": [],
   "source": [
    "#make the dirs\n",
    "os.makedirs(output_dir, exist_ok=True)\n",
    "for class_name in [\"live_wood\", \"healthy\", \"pink_wax\", \"stem_canker\"]:\n",
    "    os.makedirs(os.path.join(output_dir, class_name), exist_ok=True)"
   ]
  },
  {
   "cell_type": "code",
   "execution_count": 5,
   "metadata": {},
   "outputs": [],
   "source": [
    "def augment_and_save(image_path, output_path, augment_count=5):\n",
    "    image = cv2.imread(image_path)\n",
    "    for i in range(augment_count):\n",
    "        augmented = augmentations(image=image)\n",
    "        aug_image = augmented['image']\n",
    "        output_filename = os.path.join(output_path, f\"{os.path.splitext(os.path.basename(image_path))[0]}_aug_{i}.jpg\")\n",
    "        cv2.imwrite(output_filename, aug_image)"
   ]
  },
  {
   "cell_type": "code",
   "execution_count": 6,
   "metadata": {},
   "outputs": [],
   "source": [
    "# Loop through each class folder in the input directory\n",
    "for class_name in [\"live_wood\", \"healthy\", \"pink_wax\", \"stem_canker\"]:\n",
    "    # Define the input and output paths for the current class\n",
    "    class_input_path = os.path.join(input_dir, class_name)\n",
    "    class_output_path = os.path.join(output_dir, class_name)\n",
    "    \n",
    "    # Get all image file paths in the current class folder\n",
    "    image_paths = glob(os.path.join(class_input_path, '*.jpg'))  # Adjust extension as necessary\n",
    "    \n",
    "    # Apply augmentation to each image and save it to the output directory\n",
    "    for image_path in image_paths:\n",
    "        augment_and_save(image_path, class_output_path, augment_count=5)  # Adjust augment_count if needed"
   ]
  }
 ],
 "metadata": {
  "kernelspec": {
   "display_name": "TenserFlow",
   "language": "python",
   "name": "python3"
  },
  "language_info": {
   "codemirror_mode": {
    "name": "ipython",
    "version": 3
   },
   "file_extension": ".py",
   "mimetype": "text/x-python",
   "name": "python",
   "nbconvert_exporter": "python",
   "pygments_lexer": "ipython3",
   "version": "3.10.13"
  }
 },
 "nbformat": 4,
 "nbformat_minor": 2
}
